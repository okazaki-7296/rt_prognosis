{
  "nbformat": 4,
  "nbformat_minor": 0,
  "metadata": {
    "colab": {
      "provenance": [],
      "mount_file_id": "1Ehjlh8DnB-WK1ZQwoj0bPF1N88s9rvBq",
      "authorship_tag": "ABX9TyPkrh6oiuVvNQyc/TRBnmy6",
      "include_colab_link": true
    },
    "kernelspec": {
      "name": "python3",
      "display_name": "Python 3"
    },
    "language_info": {
      "name": "python"
    }
  },
  "cells": [
    {
      "cell_type": "markdown",
      "metadata": {
        "id": "view-in-github",
        "colab_type": "text"
      },
      "source": [
        "<a href=\"https://colab.research.google.com/github/okazaki-7296/rt_prognosis/blob/main/predict_prognosis.ipynb\" target=\"_parent\"><img src=\"https://colab.research.google.com/assets/colab-badge.svg\" alt=\"Open In Colab\"/></a>"
      ]
    },
    {
      "cell_type": "code",
      "source": [
        "import tensorflow as tf\n",
        "import numpy as np\n",
        "\n",
        "!wget -q https://raw.githubusercontent.com/okazaki-7296/rt_prognosis/main/variables.py\n",
        "from variables import *\n",
        "\n",
        "# @markdown 年齢を入力してください\n",
        "age = 60 # @param {type:\"integer\"}\n",
        "# @markdown Performance Statusを入力してください\n",
        "ps = 1 # @param {type:\"integer\"}\n",
        "# @markdown チャールソン併存疾患指数を入力してください\n",
        "# @markdown https://jcog.jp/assets/pdf/A_040_gsc_20210517.pdf#page=4\n",
        "\n",
        "cci = 12 # @param {type:\"integer\"}\n",
        "# @markdown 男性ですか？女性ですか？\n",
        "sex = \"Female\" # @param [\"Male\", \"Female\"]\n",
        "if sex == \"Male\":\n",
        "  sex = 0\n",
        "else:\n",
        "  sex = 1\n",
        "# @markdown 治療対象は原発巣ですか？\n",
        "category_primary = True # @param {type:\"boolean\"}\n",
        "category_primary = int(category_primary)\n",
        "# @markdown 治療対象は遠隔転移巣ですか？\n",
        "category_mets = True # @param {type:\"boolean\"}\n",
        "category_mets = int(category_mets)\n",
        "# @markdown 肺転移を有しますか？\n",
        "pulmonary_mets = True # @param {type:\"boolean\"}\n",
        "pulmonary_mets = int(pulmonary_mets)\n",
        "# @markdown 病理組織は扁平上皮癌ですか？\n",
        "pathology_squamous_cell_carcinoma = False # @param {type:\"boolean\"}\n",
        "pathology_squamous_cell_carcinoma = int(pathology_squamous_cell_carcinoma)\n",
        "# @markdown 照射部位は骨または口腔ですか？\n",
        "irradiation_site = \"Bone\" # @param [\"Bone\", \"Oral cavity\", \"Other site\"]\n",
        "irradiation_site_bone = 0\n",
        "irradiation_site_oral_cavity = 0\n",
        "if irradiation_site == \"Bone\":\n",
        "  irradiation_site_bone = 1\n",
        "elif irradiation_site ==\"Oral cavity\":\n",
        "  irradiation_site_oral_cavity = 1\n",
        "\n",
        "features = [age, ps, cci, sex, category_primary, category_mets, pulmonary_mets, pathology_squamous_cell_carcinoma, irradiation_site_bone, irradiation_site_oral_cavity]\n",
        "features = np.array(features).reshape(1,-1)\n",
        "\n",
        "!wget -q https://raw.githubusercontent.com/okazaki-7296/rt_prognosis/main/saved_model.h5\n",
        "model = tf.keras.models.load_model('saved_model.h5')\n",
        "\n",
        "print(f\"患者さんの予測予後は{int(model.predict(features))}日です。\")\n"
      ],
      "metadata": {
        "id": "EtlIFwCSFYQA",
        "colab": {
          "base_uri": "https://localhost:8080/"
        },
        "outputId": "e782992f-4dfa-47cb-b91c-bfc96c9dd64b"
      },
      "execution_count": 1,
      "outputs": [
        {
          "output_type": "stream",
          "name": "stdout",
          "text": [
            "1/1 [==============================] - 1s 547ms/step\n",
            "患者さんの予測予後は117日です。\n"
          ]
        }
      ]
    }
  ]
}