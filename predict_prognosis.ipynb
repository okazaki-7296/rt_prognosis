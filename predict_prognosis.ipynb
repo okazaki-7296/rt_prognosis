{
  "nbformat": 4,
  "nbformat_minor": 0,
  "metadata": {
    "colab": {
      "provenance": [],
      "mount_file_id": "1Ehjlh8DnB-WK1ZQwoj0bPF1N88s9rvBq",
      "authorship_tag": "ABX9TyP0FzxQvVLtWHxoBCupAbBI",
      "include_colab_link": true
    },
    "kernelspec": {
      "name": "python3",
      "display_name": "Python 3"
    },
    "language_info": {
      "name": "python"
    }
  },
  "cells": [
    {
      "cell_type": "markdown",
      "metadata": {
        "id": "view-in-github",
        "colab_type": "text"
      },
      "source": [
        "<a href=\"https://colab.research.google.com/github/okazaki-7296/rt_prognosis/blob/main/predict_prognosis.ipynb\" target=\"_parent\"><img src=\"https://colab.research.google.com/assets/colab-badge.svg\" alt=\"Open In Colab\"/></a>"
      ]
    },
    {
      "cell_type": "code",
      "source": [
        "import tensorflow as tf\n",
        "import numpy as np\n",
        "\n",
        "!wget -q https://raw.githubusercontent.com/okazaki-7296/rt_prognosis/main/variables.py\n",
        "from variables import *\n",
        "\n",
        "# @markdown 身長を入力してください\n",
        "height = 170 # @param {type:\"number\"}\n",
        "# @markdown Performance Statusを入力してください\n",
        "ps = 1 # @param {type:\"integer\"}\n",
        "# @markdown 男性ですか？女性ですか？\n",
        "sex = \"Male\" # @param [\"Male\", \"Female\"]\n",
        "if sex == \"Male\":\n",
        "  sex = 0\n",
        "else:\n",
        "  sex = 1\n",
        "# @markdown 脳転移を有しますか？\n",
        "brain_mets = True # @param {type:\"boolean\"}\n",
        "brain_mets = int(brain_mets)\n",
        "# @markdown 肺転移を有しますか？\n",
        "pulmonary_mets = True # @param {type:\"boolean\"}\n",
        "pulmonary_mets = int(pulmonary_mets)\n",
        "# @markdown リンパ節転移を有しますか？\n",
        "ln_mets = True # @param {type:\"boolean\"}\n",
        "ln_mets = int(ln_mets)\n",
        "# @markdown 疾患名は非ホジキンリンパ腫または胃がんですか？\n",
        "disease_name = \"Other disease\" # @param [\"Non-hodgkin lymphoma\", \"Stomach cancer\", \"Other disease\"]\n",
        "disease_name_nonhodgkin_lymphomas = 0\n",
        "disease_name_stomach = 0\n",
        "if disease_name == \"Non-hodgkin lymphoma\":\n",
        "  disease_name_nonhodgkin_lymphomas = 1\n",
        "elif disease_name == \"Stomach cancer\":\n",
        "  disease_name_stomach = 1\n",
        "# @markdown 病理組織型は腺癌またはびまん性大細胞型Ｂ細胞性リンパ腫ですか？\n",
        "pathology = \"Other pathology\" # @param [\"Adenocarcinoma\", \"Diffuse large B-cell lymphoma\", \"Other pathology\"]\n",
        "pathology_adenocarcinoma = 0\n",
        "pathology_diffuse_large_Bcell_lymphoma = 0\n",
        "if pathology == \"Adenocarcinoma\":\n",
        "  pathology_adenocarcinoma = 1\n",
        "elif pathology == \"Diffuse large B-cell lymphoma\":\n",
        "  pathology_diffuse_large_Bcell_lymphoma = 1\n",
        "\n",
        "features = [height, ps, sex, brain_mets, pulmonary_mets, ln_mets, disease_name_nonhodgkin_lymphomas, disease_name_stomach, pathology_adenocarcinoma, pathology_diffuse_large_Bcell_lymphoma]\n",
        "features = np.array(features).reshape(1,-1)\n",
        "\n",
        "!wget -q https://raw.githubusercontent.com/okazaki-7296/rt_prognosis/main/saved_model.h5\n",
        "model = tf.keras.models.load_model('saved_model.h5')\n",
        "\n",
        "print(f\"患者さんの予測予後は{int(model.predict(features))}日です。\")\n"
      ],
      "metadata": {
        "id": "EtlIFwCSFYQA",
        "colab": {
          "base_uri": "https://localhost:8080/"
        },
        "outputId": "470194e6-57be-4ac5-80e3-1713371695e5"
      },
      "execution_count": 5,
      "outputs": [
        {
          "output_type": "stream",
          "name": "stdout",
          "text": [
            "1/1 [==============================] - 0s 461ms/step\n",
            "患者さんの予測予後は117日です。\n"
          ]
        }
      ]
    }
  ]
}