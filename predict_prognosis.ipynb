{
  "nbformat": 4,
  "nbformat_minor": 0,
  "metadata": {
    "colab": {
      "provenance": [],
      "mount_file_id": "1Ehjlh8DnB-WK1ZQwoj0bPF1N88s9rvBq",
      "authorship_tag": "ABX9TyPVW3SxNbJA/sP6OBBMRK4s",
      "include_colab_link": true
    },
    "kernelspec": {
      "name": "python3",
      "display_name": "Python 3"
    },
    "language_info": {
      "name": "python"
    }
  },
  "cells": [
    {
      "cell_type": "markdown",
      "metadata": {
        "id": "view-in-github",
        "colab_type": "text"
      },
      "source": [
        "<a href=\"https://colab.research.google.com/github/okazaki-7296/rt_prognosis/blob/main/predict_prognosis.ipynb\" target=\"_parent\"><img src=\"https://colab.research.google.com/assets/colab-badge.svg\" alt=\"Open In Colab\"/></a>"
      ]
    },
    {
      "cell_type": "code",
      "source": [
        "import tensorflow as tf\n",
        "import numpy as np\n",
        "\n",
        "n_numerical_subanalysis = 3\n",
        "n_categorical_subanalysis = 7\n",
        "n_labcat_subanalysis = 0\n",
        "\n",
        "# @markdown 年齢を入力してください\n",
        "age = 60 # @param {type:\"integer\"}\n",
        "# @markdown Performance Statusを入力してください\n",
        "ps = 1 # @param {type:\"integer\"}\n",
        "# @markdown チャールソン併存疾患指数を入力してください\n",
        "# @markdown https://jcog.jp/assets/pdf/A_040_gsc_20210517.pdf#page=4\n",
        "\n",
        "cci = 12 # @param {type:\"integer\"}\n",
        "# @markdown 男性ですか？女性ですか？\n",
        "sex = \"Female\" # @param [\"Male\", \"Female\"]\n",
        "if sex == \"Male\":\n",
        "  sex = 0\n",
        "else:\n",
        "  sex = 1\n",
        "# @markdown 治療対象は原発巣ですか？\n",
        "category_primary = True # @param {type:\"boolean\"}\n",
        "category_primary = int(category_primary)\n",
        "# @markdown 治療対象は遠隔転移巣ですか？\n",
        "category_mets = True # @param {type:\"boolean\"}\n",
        "category_mets = int(category_mets)\n",
        "# @markdown 肺転移を有しますか？\n",
        "pulmonary_mets = True # @param {type:\"boolean\"}\n",
        "pulmonary_mets = int(pulmonary_mets)\n",
        "# @markdown 病理組織は扁平上皮癌ですか？\n",
        "pathology_squamous_cell_carcinoma = False # @param {type:\"boolean\"}\n",
        "pathology_squamous_cell_carcinoma = int(pathology_squamous_cell_carcinoma)\n",
        "# @markdown 照射部位は骨または口腔ですか？\n",
        "irradiation_site = \"Bone\" # @param [\"Bone\", \"Oral cavity\", \"Other site\"]\n",
        "irradiation_site_bone = 0\n",
        "irradiation_site_oral_cavity = 0\n",
        "if irradiation_site == \"Bone\":\n",
        "  irradiation_site_bone = 1\n",
        "elif irradiation_site ==\"Oral cavity\":\n",
        "  irradiation_site_oral_cavity = 1\n",
        "\n",
        "features = [age, ps, cci, sex, category_primary, category_mets, pulmonary_mets, pathology_squamous_cell_carcinoma, irradiation_site_bone, irradiation_site_oral_cavity]\n",
        "features = np.array(features).reshape(1,-1)\n",
        "\n",
        "!wget https://github.com/okazaki-7296/rt_prognosis/blob/734c385b71c126a17c34cc3c95e9d7f55827393d/saved_model.h5\n",
        "model = tf.keras.models.load_model('/content/saved_model.h5')\n",
        "\n",
        "print(f\"患者さんの予測予後は{int(model.predict(features))}日です。\")\n"
      ],
      "metadata": {
        "id": "EtlIFwCSFYQA",
        "colab": {
          "base_uri": "https://localhost:8080/",
          "height": 510
        },
        "outputId": "a9489ed7-70aa-42b7-d9c1-952d33612749"
      },
      "execution_count": 13,
      "outputs": [
        {
          "output_type": "stream",
          "name": "stdout",
          "text": [
            "--2023-10-02 13:00:32--  https://github.com/okazaki-7296/rt_prognosis/blob/7ed26469bf90696b9186ed10dd81863b05ed10d6/variables.py\n",
            "Resolving github.com (github.com)... 140.82.114.3\n",
            "Connecting to github.com (github.com)|140.82.114.3|:443... connected.\n",
            "HTTP request sent, awaiting response... 200 OK\n",
            "Length: 5815 (5.7K) [text/plain]\n",
            "Saving to: ‘variables.py’\n",
            "\n",
            "variables.py        100%[===================>]   5.68K  --.-KB/s    in 0s      \n",
            "\n",
            "2023-10-02 13:00:33 (91.5 MB/s) - ‘variables.py’ saved [5815/5815]\n",
            "\n"
          ]
        },
        {
          "output_type": "error",
          "ename": "NameError",
          "evalue": "ignored",
          "traceback": [
            "\u001b[0;31m---------------------------------------------------------------------------\u001b[0m",
            "\u001b[0;31mNameError\u001b[0m                                 Traceback (most recent call last)",
            "\u001b[0;32m<ipython-input-13-e89e0ec4b2bc>\u001b[0m in \u001b[0;36m<cell line: 5>\u001b[0;34m()\u001b[0m\n\u001b[1;32m      3\u001b[0m \u001b[0;34m\u001b[0m\u001b[0m\n\u001b[1;32m      4\u001b[0m \u001b[0mget_ipython\u001b[0m\u001b[0;34m(\u001b[0m\u001b[0;34m)\u001b[0m\u001b[0;34m.\u001b[0m\u001b[0msystem\u001b[0m\u001b[0;34m(\u001b[0m\u001b[0;34m'wget https://github.com/okazaki-7296/rt_prognosis/blob/7ed26469bf90696b9186ed10dd81863b05ed10d6/variables.py'\u001b[0m\u001b[0;34m)\u001b[0m\u001b[0;34m\u001b[0m\u001b[0;34m\u001b[0m\u001b[0m\n\u001b[0;32m----> 5\u001b[0;31m \u001b[0;32mimport\u001b[0m \u001b[0mvariables\u001b[0m\u001b[0;34m\u001b[0m\u001b[0;34m\u001b[0m\u001b[0m\n\u001b[0m\u001b[1;32m      6\u001b[0m \u001b[0;34m\u001b[0m\u001b[0m\n\u001b[1;32m      7\u001b[0m \u001b[0mn_numerical_subanalysis\u001b[0m \u001b[0;34m=\u001b[0m \u001b[0;36m3\u001b[0m\u001b[0;34m\u001b[0m\u001b[0;34m\u001b[0m\u001b[0m\n",
            "\u001b[0;32m/content/variables.py\u001b[0m in \u001b[0;36m<module>\u001b[0;34m\u001b[0m\n\u001b[0;32m----> 1\u001b[0;31m \u001b[0;34m{\u001b[0m\u001b[0;34m\"payload\"\u001b[0m\u001b[0;34m:\u001b[0m\u001b[0;34m{\u001b[0m\u001b[0;34m\"allShortcutsEnabled\"\u001b[0m\u001b[0;34m:\u001b[0m\u001b[0mfalse\u001b[0m\u001b[0;34m,\u001b[0m\u001b[0;34m\"fileTree\"\u001b[0m\u001b[0;34m:\u001b[0m\u001b[0;34m{\u001b[0m\u001b[0;34m\"\"\u001b[0m\u001b[0;34m:\u001b[0m\u001b[0;34m{\u001b[0m\u001b[0;34m\"items\"\u001b[0m\u001b[0;34m:\u001b[0m\u001b[0;34m[\u001b[0m\u001b[0;34m{\u001b[0m\u001b[0;34m\"name\"\u001b[0m\u001b[0;34m:\u001b[0m\u001b[0;34m\"README.md\"\u001b[0m\u001b[0;34m,\u001b[0m\u001b[0;34m\"path\"\u001b[0m\u001b[0;34m:\u001b[0m\u001b[0;34m\"README.md\"\u001b[0m\u001b[0;34m,\u001b[0m\u001b[0;34m\"contentType\"\u001b[0m\u001b[0;34m:\u001b[0m\u001b[0;34m\"file\"\u001b[0m\u001b[0;34m}\u001b[0m\u001b[0;34m,\u001b[0m\u001b[0;34m{\u001b[0m\u001b[0;34m\"name\"\u001b[0m\u001b[0;34m:\u001b[0m\u001b[0;34m\"predict_prognosis.ipynb\"\u001b[0m\u001b[0;34m,\u001b[0m\u001b[0;34m\"path\"\u001b[0m\u001b[0;34m:\u001b[0m\u001b[0;34m\"predict_prognosis.ipynb\"\u001b[0m\u001b[0;34m,\u001b[0m\u001b[0;34m\"contentType\"\u001b[0m\u001b[0;34m:\u001b[0m\u001b[0;34m\"file\"\u001b[0m\u001b[0;34m}\u001b[0m\u001b[0;34m,\u001b[0m\u001b[0;34m{\u001b[0m\u001b[0;34m\"name\"\u001b[0m\u001b[0;34m:\u001b[0m\u001b[0;34m\"saved_model.h5\"\u001b[0m\u001b[0;34m,\u001b[0m\u001b[0;34m\"path\"\u001b[0m\u001b[0;34m:\u001b[0m\u001b[0;34m\"saved_model.h5\"\u001b[0m\u001b[0;34m,\u001b[0m\u001b[0;34m\"contentType\"\u001b[0m\u001b[0;34m:\u001b[0m\u001b[0;34m\"file\"\u001b[0m\u001b[0;34m}\u001b[0m\u001b[0;34m,\u001b[0m\u001b[0;34m{\u001b[0m\u001b[0;34m\"name\"\u001b[0m\u001b[0;34m:\u001b[0m\u001b[0;34m\"variables.py\"\u001b[0m\u001b[0;34m,\u001b[0m\u001b[0;34m\"path\"\u001b[0m\u001b[0;34m:\u001b[0m\u001b[0;34m\"variables.py\"\u001b[0m\u001b[0;34m,\u001b[0m\u001b[0;34m\"contentType\"\u001b[0m\u001b[0;34m:\u001b[0m\u001b[0;34m\"file\"\u001b[0m\u001b[0;34m}\u001b[0m\u001b[0;34m]\u001b[0m\u001b[0;34m,\u001b[0m\u001b[0;34m\"totalCount\"\u001b[0m\u001b[0;34m:\u001b[0m\u001b[0;36m4\u001b[0m\u001b[0;34m}\u001b[0m\u001b[0;34m}\u001b[0m\u001b[0;34m,\u001b[0m\u001b[0;34m\"fileTreeProcessingTime\"\u001b[0m\u001b[0;34m:\u001b[0m\u001b[0;36m2.380718\u001b[0m\u001b[0;34m,\u001b[0m\u001b[0;34m\"foldersToFetch\"\u001b[0m\u001b[0;34m:\u001b[0m\u001b[0;34m[\u001b[0m\u001b[0;34m]\u001b[0m\u001b[0;34m,\u001b[0m\u001b[0;34m\"reducedMotionEnabled\"\u001b[0m\u001b[0;34m:\u001b[0m\u001b[0mnull\u001b[0m\u001b[0;34m,\u001b[0m\u001b[0;3...\n\u001b[0m",
            "\u001b[0;31mNameError\u001b[0m: name 'false' is not defined"
          ]
        }
      ]
    }
  ]
}